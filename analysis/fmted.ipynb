{
 "cells": [
  {
   "cell_type": "code",
   "execution_count": null,
   "metadata": {},
   "outputs": [],
   "source": [
    "import pandas as pd\n",
    "import plotly.express as px\n",
    "import matplotlib.pyplot as plt\n",
    "import seaborn as sns\n",
    "\n",
    "# %matplotlib notebook\n",
    "sns.set_style(\"darkgrid\")"
   ]
  },
  {
   "cell_type": "code",
   "execution_count": null,
   "metadata": {},
   "outputs": [],
   "source": [
    "df = pd.read_csv(\"formatted_stats.csv\")\n",
    "df.describe()\n",
    "# df.drop(columns=['Unnamed: 0'], inplace=True)"
   ]
  },
  {
   "cell_type": "code",
   "execution_count": null,
   "metadata": {},
   "outputs": [],
   "source": [
    "# plt.figure(figsize=(20, 10))\n",
    "tq = df['time_quantum'].unique()[1:]\n",
    "filtered = df.loc[\n",
    "    (df[\"n3\"] == 25000) & (df[\"n2\"] == 10000) & (df[\"scheduling_algorithm\"] == \"rr\")\n",
    "]\n",
    "\n",
    "tq_plt = {\n",
    "    q: filtered[filtered[\"time_quantum\"] == q] for q in tq\n",
    "}"
   ]
  },
  {
   "cell_type": "code",
   "execution_count": null,
   "metadata": {},
   "outputs": [],
   "source": [
    "fig, axs = plt.subplots(3, 2, figsize=(30, 15))\n",
    "fig.suptitle('Waiting Times vs N1 Plots')\n",
    "\n",
    "for i, (k, data) in enumerate(tq_plt.items()):\n",
    "    x, y = i % 2, i // 2\n",
    "    axs[y, x].set_title(f'tq: {k}')\n",
    "    # print(i, x, y)\n",
    "    sns.lineplot(data=data, x=\"n1\", y=\"wt_1\", marker='o', label=\"wt_1\", ax=axs[y, x])\n",
    "    sns.lineplot(data=data, x=\"n1\", y=\"wt_2\", marker='o', label=\"wt_2\", ax=axs[y, x])\n",
    "    sns.lineplot(data=data, x=\"n1\", y=\"wt_3\", marker='o', label=\"wt_3\", ax=axs[y, x])\n"
   ]
  },
  {
   "cell_type": "code",
   "execution_count": null,
   "metadata": {},
   "outputs": [],
   "source": [
    "# plt.figure(figsize=(20, 10))\n",
    "filtered = df.loc[\n",
    "    (df[\"n2\"] == 10000) & (df[\"n3\"] == 250000) & (df[\"scheduling_algorithm\"] == \"rr\")\n",
    "]\n",
    "\n",
    "tq_plt = {\n",
    "    q: filtered[filtered[\"time_quantum\"] == q] for q in tq\n",
    "}\n",
    "\n",
    "fig, axs = plt.subplots(3, 2, figsize=(30, 15))\n",
    "fig.suptitle('Waiting Times vs N1 Plots')\n",
    "\n",
    "for i, (k, data) in enumerate(tq_plt.items()):\n",
    "    x, y = i % 2, i // 2\n",
    "    axs[y, x].set_title(f'tq: {k}')\n",
    "    # print(i, x, y)\n",
    "    sns.lineplot(data=data, x=\"n1\", y=\"wt_1\", marker='o', label=\"wt_1\", ax=axs[y, x])\n",
    "    sns.lineplot(data=data, x=\"n1\", y=\"wt_2\", marker='o', label=\"wt_2\", ax=axs[y, x])\n",
    "    sns.lineplot(data=data, x=\"n1\", y=\"wt_3\", marker='o', label=\"wt_3\", ax=axs[y, x])\n",
    "\n",
    "    axs[y, x].set_ylabel(\"Waiting Times\")"
   ]
  },
  {
   "cell_type": "code",
   "execution_count": null,
   "metadata": {},
   "outputs": [],
   "source": [
    "plt.figure(figsize=(20, 12))\n",
    "filtered = df.loc[\n",
    "    (df[\"n3\"] == 25000) & (df[\"n2\"] == 10000) & (df[\"scheduling_algorithm\"] == \"fcfs\")\n",
    "]\n",
    "\n",
    "sns.lineplot(data=filtered, x=\"n1\", y=\"wt_1\", marker='o', label=\"wt_1\")\n",
    "sns.lineplot(data=filtered, x=\"n1\", y=\"wt_2\", marker='o', label=\"wt_2\")\n",
    "sns.lineplot(data=filtered, x=\"n1\", y=\"wt_3\", marker='o', label=\"wt_3\")\n",
    "\n",
    "plt.ylabel(\"Waiting Times\")"
   ]
  },
  {
   "cell_type": "code",
   "execution_count": null,
   "metadata": {},
   "outputs": [],
   "source": [
    "plt.figure(figsize=(20, 12))\n",
    "\n",
    "sns.scatterplot(data=df, x='n1', y='n2', hue='n3', size='wt_1')"
   ]
  }
 ],
 "metadata": {
  "interpreter": {
   "hash": "60f28a8fceb70ae9bade7124292b097dd4ca3cadc7afb7fa6764efa373ec1ed9"
  },
  "kernelspec": {
   "display_name": "Python 3.9.5 64-bit ('base': conda)",
   "language": "python",
   "name": "python3"
  },
  "language_info": {
   "codemirror_mode": {
    "name": "ipython",
    "version": 3
   },
   "file_extension": ".py",
   "mimetype": "text/x-python",
   "name": "python",
   "nbconvert_exporter": "python",
   "pygments_lexer": "ipython3",
   "version": "3.9.5"
  },
  "orig_nbformat": 4
 },
 "nbformat": 4,
 "nbformat_minor": 2
}
