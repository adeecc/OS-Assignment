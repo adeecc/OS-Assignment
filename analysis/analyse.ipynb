{
 "cells": [
  {
   "cell_type": "code",
   "execution_count": 1,
   "metadata": {},
   "outputs": [],
   "source": [
    "import pandas as pd"
   ]
  },
  {
   "cell_type": "code",
   "execution_count": 2,
   "metadata": {},
   "outputs": [
    {
     "data": {
      "text/html": [
       "<div>\n",
       "<style scoped>\n",
       "    .dataframe tbody tr th:only-of-type {\n",
       "        vertical-align: middle;\n",
       "    }\n",
       "\n",
       "    .dataframe tbody tr th {\n",
       "        vertical-align: top;\n",
       "    }\n",
       "\n",
       "    .dataframe thead th {\n",
       "        text-align: right;\n",
       "    }\n",
       "</style>\n",
       "<table border=\"1\" class=\"dataframe\">\n",
       "  <thead>\n",
       "    <tr style=\"text-align: right;\">\n",
       "      <th></th>\n",
       "      <th>process_no</th>\n",
       "      <th>ni</th>\n",
       "      <th>batch_size</th>\n",
       "      <th>time_quantum</th>\n",
       "      <th>num_wait_iters</th>\n",
       "      <th>total_waiting_time</th>\n",
       "      <th>turn_around_time</th>\n",
       "    </tr>\n",
       "  </thead>\n",
       "  <tbody>\n",
       "    <tr>\n",
       "      <th>count</th>\n",
       "      <td>153090.000000</td>\n",
       "      <td>153090.000000</td>\n",
       "      <td>153090.0</td>\n",
       "      <td>1.530900e+05</td>\n",
       "      <td>153090.000000</td>\n",
       "      <td>153090.000000</td>\n",
       "      <td>153090.000000</td>\n",
       "    </tr>\n",
       "    <tr>\n",
       "      <th>mean</th>\n",
       "      <td>1.000000</td>\n",
       "      <td>306666.666667</td>\n",
       "      <td>100.0</td>\n",
       "      <td>3.067847e+08</td>\n",
       "      <td>3066.666667</td>\n",
       "      <td>0.017342</td>\n",
       "      <td>0.042495</td>\n",
       "    </tr>\n",
       "    <tr>\n",
       "      <th>std</th>\n",
       "      <td>0.816499</td>\n",
       "      <td>341151.130097</td>\n",
       "      <td>0.0</td>\n",
       "      <td>7.514646e+08</td>\n",
       "      <td>3411.511301</td>\n",
       "      <td>0.025652</td>\n",
       "      <td>0.053405</td>\n",
       "    </tr>\n",
       "    <tr>\n",
       "      <th>min</th>\n",
       "      <td>0.000000</td>\n",
       "      <td>10000.000000</td>\n",
       "      <td>100.0</td>\n",
       "      <td>1.000000e+02</td>\n",
       "      <td>100.000000</td>\n",
       "      <td>0.000002</td>\n",
       "      <td>0.000156</td>\n",
       "    </tr>\n",
       "    <tr>\n",
       "      <th>25%</th>\n",
       "      <td>0.000000</td>\n",
       "      <td>50000.000000</td>\n",
       "      <td>100.0</td>\n",
       "      <td>2.500000e+02</td>\n",
       "      <td>500.000000</td>\n",
       "      <td>0.002061</td>\n",
       "      <td>0.005809</td>\n",
       "    </tr>\n",
       "    <tr>\n",
       "      <th>50%</th>\n",
       "      <td>1.000000</td>\n",
       "      <td>100000.000000</td>\n",
       "      <td>100.0</td>\n",
       "      <td>1.000000e+03</td>\n",
       "      <td>1000.000000</td>\n",
       "      <td>0.010289</td>\n",
       "      <td>0.019337</td>\n",
       "    </tr>\n",
       "    <tr>\n",
       "      <th>75%</th>\n",
       "      <td>2.000000</td>\n",
       "      <td>500000.000000</td>\n",
       "      <td>100.0</td>\n",
       "      <td>5.000000e+03</td>\n",
       "      <td>5000.000000</td>\n",
       "      <td>0.020577</td>\n",
       "      <td>0.057096</td>\n",
       "    </tr>\n",
       "    <tr>\n",
       "      <th>max</th>\n",
       "      <td>2.000000</td>\n",
       "      <td>1000000.000000</td>\n",
       "      <td>100.0</td>\n",
       "      <td>2.147484e+09</td>\n",
       "      <td>10000.000000</td>\n",
       "      <td>0.290994</td>\n",
       "      <td>0.375284</td>\n",
       "    </tr>\n",
       "  </tbody>\n",
       "</table>\n",
       "</div>"
      ],
      "text/plain": [
       "          process_no              ni  batch_size  time_quantum  \\\n",
       "count  153090.000000   153090.000000    153090.0  1.530900e+05   \n",
       "mean        1.000000   306666.666667       100.0  3.067847e+08   \n",
       "std         0.816499   341151.130097         0.0  7.514646e+08   \n",
       "min         0.000000    10000.000000       100.0  1.000000e+02   \n",
       "25%         0.000000    50000.000000       100.0  2.500000e+02   \n",
       "50%         1.000000   100000.000000       100.0  1.000000e+03   \n",
       "75%         2.000000   500000.000000       100.0  5.000000e+03   \n",
       "max         2.000000  1000000.000000       100.0  2.147484e+09   \n",
       "\n",
       "       num_wait_iters  total_waiting_time  turn_around_time  \n",
       "count   153090.000000       153090.000000     153090.000000  \n",
       "mean      3066.666667            0.017342          0.042495  \n",
       "std       3411.511301            0.025652          0.053405  \n",
       "min        100.000000            0.000002          0.000156  \n",
       "25%        500.000000            0.002061          0.005809  \n",
       "50%       1000.000000            0.010289          0.019337  \n",
       "75%       5000.000000            0.020577          0.057096  \n",
       "max      10000.000000            0.290994          0.375284  "
      ]
     },
     "execution_count": 2,
     "metadata": {},
     "output_type": "execute_result"
    }
   ],
   "source": [
    "df = pd.read_csv(\"../stats.csv\")\n",
    "df['start_time'] = pd.to_datetime(df['start_time'], unit='s')\n",
    "df.describe()"
   ]
  },
  {
   "cell_type": "code",
   "execution_count": 3,
   "metadata": {},
   "outputs": [
    {
     "data": {
      "text/plain": [
       "ni     \n",
       "10000      17010\n",
       "25000      17010\n",
       "50000      17010\n",
       "75000      17010\n",
       "100000     17010\n",
       "250000     17010\n",
       "500000     17010\n",
       "750000     17010\n",
       "1000000    17010\n",
       "dtype: int64"
      ]
     },
     "execution_count": 3,
     "metadata": {},
     "output_type": "execute_result"
    }
   ],
   "source": [
    "tuples = df[['ni']]\n",
    "tuples.value_counts()"
   ]
  },
  {
   "cell_type": "code",
   "execution_count": 4,
   "metadata": {},
   "outputs": [],
   "source": [
    "res = []\n",
    "for idx in range(len(df) // 3):\n",
    "    idx = 3 * idx\n",
    "    res.append(\n",
    "        {\n",
    "            \"index\": idx // 3,\n",
    "            \"scheduling_algorithm\": df.iloc[idx][\"scheduling_algorithm\"],\n",
    "            \"batch_size\": df.iloc[idx][\"batch_size\"],\n",
    "            \"time_quantum\": df.iloc[idx][\"time_quantum\"],\n",
    "            \"n1\": df.iloc[idx + 0][\"ni\"],\n",
    "            \"n2\": df.iloc[idx + 1][\"ni\"],\n",
    "            \"n3\": df.iloc[idx + 2][\"ni\"],\n",
    "            \"st_1\": df.iloc[idx + 0][\"start_time\"],\n",
    "            \"st_2\": df.iloc[idx + 1][\"start_time\"],\n",
    "            \"st_3\": df.iloc[idx + 2][\"start_time\"],\n",
    "            \"wt_1\": df.iloc[idx + 0][\"total_waiting_time\"],\n",
    "            \"wt_2\": df.iloc[idx + 1][\"total_waiting_time\"],\n",
    "            \"wt_3\": df.iloc[idx + 2][\"total_waiting_time\"],\n",
    "            \"tat_1\": df.iloc[idx + 0][\"turn_around_time\"],\n",
    "            \"tat_2\": df.iloc[idx + 1][\"turn_around_time\"],\n",
    "            \"tat_3\": df.iloc[idx + 2][\"turn_around_time\"],\n",
    "        }\n",
    "    )\n"
   ]
  },
  {
   "cell_type": "code",
   "execution_count": 5,
   "metadata": {},
   "outputs": [],
   "source": [
    "stats = pd.DataFrame(res)\n",
    "stats.to_csv('formatted_stats.csv', index=False)"
   ]
  }
 ],
 "metadata": {
  "interpreter": {
   "hash": "60f28a8fceb70ae9bade7124292b097dd4ca3cadc7afb7fa6764efa373ec1ed9"
  },
  "kernelspec": {
   "display_name": "Python 3.9.5 64-bit ('base': conda)",
   "language": "python",
   "name": "python3"
  },
  "language_info": {
   "codemirror_mode": {
    "name": "ipython",
    "version": 3
   },
   "file_extension": ".py",
   "mimetype": "text/x-python",
   "name": "python",
   "nbconvert_exporter": "python",
   "pygments_lexer": "ipython3",
   "version": "3.9.5"
  },
  "orig_nbformat": 4
 },
 "nbformat": 4,
 "nbformat_minor": 2
}
